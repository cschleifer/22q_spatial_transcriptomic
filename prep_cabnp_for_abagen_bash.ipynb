{
 "cells": [
  {
   "cell_type": "code",
   "execution_count": 7,
   "id": "091bc869",
   "metadata": {},
   "outputs": [
    {
     "name": "stdout",
     "output_type": "stream",
     "text": [
      "   The GIFTI format is an established data file format intended for use with\n",
      "   surface-based data.  It has subtypes for geometry (.surf.gii), continuous\n",
      "   data (.func.gii, .shape.gii), and integer label data (.label.gii).  The\n",
      "   files that contain data, rather than geometry, consist mainly of a 2D array,\n",
      "   with one dimension having length equal to the number of vertices in the\n",
      "   surface.  Label files (.label.gii) also contain a list of integer values\n",
      "   that are used in the file, plus a name and a color for each one.  In\n",
      "   workbench, the files for continuous data are called 'metric files', and\n",
      "   .func.gii is usually the preferred extension, but there is no difference in\n",
      "   file format between .func.gii and .shape.gii.  Geometry files are simply\n",
      "   called 'surface files', and must contain only the coordinate and triangle\n",
      "   arrays.  Notably, other software may put data arrays (the equivalent of a\n",
      "   metric file) into the same file as the geometry information.  Workbench does\n",
      "   not support this kind of combined format, and you must use other tools to\n",
      "   separate the data array from the geometry.\n",
      "\n",
      "   For the full details of the GIFTI format, see\n",
      "      http://www.nitrc.org/projects/gifti/\n",
      "\n"
     ]
    }
   ],
   "source": [
    "wb_command -gifti-help"
   ]
  },
  {
   "cell_type": "code",
   "execution_count": 16,
   "id": "109330c1",
   "metadata": {},
   "outputs": [],
   "source": [
    "# separate CAB-NP CIFTI parcels to single-hemisphere GIFTI files\n",
    "cifti_in=\"/Users/charlie/Dropbox/PhD/bearden_lab/22q/analyses/striatum_thalamus_fc/ColeAnticevicNetPartition-master/data/CortexSubcortex_ColeAnticevic_NetPartition_wSubcorGSR_parcels_LR.dscalar.nii\"\n",
    "metric_out_left=\"/Users/charlie/Dropbox/PhD/bearden_lab/AHBA/CAB_NP_converted/CAB_NP_surface_orig_L.func.gii\"\n",
    "metric_out_right=\"/Users/charlie/Dropbox/PhD/bearden_lab/AHBA/CAB_NP_converted/CAB_NP_surface_orig_R.func.gii\"\n",
    "wb_command -cifti-separate $cifti_in COLUMN -metric CORTEX_LEFT $metric_out_left -metric CORTEX_RIGHT $metric_out_right"
   ]
  },
  {
   "cell_type": "code",
   "execution_count": 22,
   "id": "25c67ea2",
   "metadata": {},
   "outputs": [],
   "source": [
    "for hemi in L R; do\n",
    "    ## set up vars for -metric-resample to fsaverage5 \n",
    "    # metric file to resample\n",
    "    metric_in=/Users/charlie/Dropbox/PhD/bearden_lab/AHBA/CAB_NP_converted/CAB_NP_surface_orig_${hemi}.func.gii\n",
    "    # path to reference surfaces\n",
    "    surf_path=/Users/charlie/Dropbox/PhD/bearden_lab/22q/HCPpipelines-4.1.3/global/templates/standard_mesh_atlases/resample_fsaverage/\n",
    "    # appropriate hemisphere and resolution from standard_mesh_atlases/resample_fsaverage (e.g.fs_LR-deformed_to-fsaverage.?.sphere.???.k_fs_LR.surf.gii)\n",
    "    # confirmed 32k mesh by reading metric_out_left as a text file, Dim0=\"32492\"\n",
    "    current_sphere=${surf_path}/fs_LR-deformed_to-fsaverage.${hemi}.sphere.32k_fs_LR.surf.gii\n",
    "    # use appropriate hemi and res (e.g fsaverage5_std_sphere.?.???.k_fsavg_?.surf.gii)\n",
    "    new_sphere=${surf_path}/fsaverage5_std_sphere.${hemi}.10k_fsavg_${hemi}.surf.gii\n",
    "    # specify output name *func.gii\n",
    "    metric_out=/Users/charlie/Dropbox/PhD/bearden_lab/AHBA/CAB_NP_converted/CAB_NP_surface_resample_fsaverage5_${hemi}.func.gii\n",
    "    # use midthickness matching current_sphere\n",
    "    current_area=${surf_path}/fs_LR.${hemi}.midthickness_va_avg.32k_fs_LR.shape.gii\n",
    "    # use midthickness matching new_sphere\n",
    "    new_area=${surf_path}/fsaverage5.${hemi}.midthickness_va_avg.10k_fsavg_${hemi}.shape.gii\n",
    "    # check files exist\n",
    "    #ls $metric_in\n",
    "    #ls -d $surf_path\n",
    "    #ls $current_sphere\n",
    "    #ls $new_sphere\n",
    "    #ls $current_area\n",
    "    #ls $new_area\n",
    "    # command to resample surfaces to fsaverage5\n",
    "    wb_command -metric-resample $metric_in $current_sphere $new_sphere ADAP_BARY_AREA $metric_out -area-metrics $current_area $new_area\n",
    "done\n",
    "\n"
   ]
  },
  {
   "cell_type": "code",
   "execution_count": 27,
   "id": "55886eb2",
   "metadata": {},
   "outputs": [
    {
     "name": "stdout",
     "output_type": "stream",
     "text": [
      "CAB_NP_surface_orig_L.func.gii\n",
      "CAB_NP_surface_orig_R.func.gii\n",
      "CAB_NP_surface_resample_fsaverage5_L.func.gii\n",
      "CAB_NP_surface_resample_fsaverage5_R.func.gii\n",
      "CAB_NP_vol_separated.nii\n"
     ]
    }
   ],
   "source": [
    "ls /Users/charlie/Dropbox/PhD/bearden_lab/AHBA/CAB_NP_converted/"
   ]
  },
  {
   "cell_type": "code",
   "execution_count": 25,
   "id": "a7ed4343",
   "metadata": {},
   "outputs": [
    {
     "name": "stdout",
     "output_type": "stream",
     "text": [
      "           Dim0=\"10242\"\n"
     ]
    }
   ],
   "source": [
    "cat /Users/charlie/Dropbox/PhD/bearden_lab/AHBA/CAB_NP_converted/CAB_NP_surface_resample_fsaverage5_L.func.gii| grep \"Dim0\""
   ]
  },
  {
   "cell_type": "code",
   "execution_count": 3,
   "id": "14ea3788",
   "metadata": {
    "scrolled": true
   },
   "outputs": [
    {
     "name": "stdout",
     "output_type": "stream",
     "text": [
      "(base) (base) (base) (base) (base) (base) (base) "
     ]
    },
    {
     "ename": "",
     "evalue": "1",
     "output_type": "error",
     "traceback": []
    }
   ],
   "source": [
    "# TODO: current resample method blurs borders (visible with random colos scheme in Surfice) \n",
    "# try creating label.gii from atlas dlabel.nii first\n",
    "# CAB_NP_surface_orig_L.func.gii boundaries look good, but not resampled version\n",
    "label_in=\"/Users/charlie/Dropbox/PhD/bearden_lab/22q/analyses/striatum_thalamus_fc/ColeAnticevicNetPartition-master/CortexSubcortex_ColeAnticevic_NetPartition_wSubcorGSR_parcels_LR.dlabel.nii\"\n",
    "label_out_left=\"/Users/charlie/Dropbox/PhD/bearden_lab/AHBA/CAB_NP_converted/CAB_NP_surface_orig_L.label.gii\"\n",
    "label_out_right=\"/Users/charlie/Dropbox/PhD/bearden_lab/AHBA/CAB_NP_converted/CAB_NP_surface_orig_R.label.gii\"\n",
    "wb_command -cifti-separate $label_in COLUMN -label CORTEX_LEFT $label_out_left -label CORTEX_RIGHT $label_out_right\n"
   ]
  },
  {
   "cell_type": "code",
   "execution_count": 5,
   "id": "0920fd84-c387-4bb2-b0dd-ca6028617a0d",
   "metadata": {},
   "outputs": [
    {
     "name": "stdout",
     "output_type": "stream",
     "text": [
      "(base) (base) "
     ]
    },
    {
     "ename": "",
     "evalue": "1",
     "output_type": "error",
     "traceback": []
    }
   ],
   "source": [
    "# label resample \n",
    "for hemi in L R; do\n",
    "    ## set up vars for -metric-resample to fsaverage5 \n",
    "    # metric file to resample\n",
    "    label_in=/Users/charlie/Dropbox/PhD/bearden_lab/AHBA/CAB_NP_converted/CAB_NP_surface_orig_${hemi}.label.gii\n",
    "    # path to reference surfaces\n",
    "    surf_path=/Users/charlie/Dropbox/PhD/bearden_lab/22q/HCPpipelines-4.1.3/global/templates/standard_mesh_atlases/resample_fsaverage/\n",
    "    # appropriate hemisphere and resolution from standard_mesh_atlases/resample_fsaverage (e.g.fs_LR-deformed_to-fsaverage.?.sphere.???.k_fs_LR.surf.gii)\n",
    "    # confirmed 32k mesh by reading metric_out_left as a text file, Dim0=\"32492\"\n",
    "    current_sphere=${surf_path}/fs_LR-deformed_to-fsaverage.${hemi}.sphere.32k_fs_LR.surf.gii\n",
    "    # use appropriate hemi and res (e.g fsaverage5_std_sphere.?.???.k_fsavg_?.surf.gii)\n",
    "    new_sphere=${surf_path}/fsaverage5_std_sphere.${hemi}.10k_fsavg_${hemi}.surf.gii\n",
    "    # specify output name *func.gii\n",
    "    label_out=/Users/charlie/Dropbox/PhD/bearden_lab/AHBA/CAB_NP_converted/CAB_NP_surface_resample_fsaverage5_${hemi}.label.gii\n",
    "    # use midthickness matching current_sphere\n",
    "    current_area=${surf_path}/fs_LR.${hemi}.midthickness_va_avg.32k_fs_LR.shape.gii\n",
    "    # use midthickness matching new_sphere\n",
    "    new_area=${surf_path}/fsaverage5.${hemi}.midthickness_va_avg.10k_fsavg_${hemi}.shape.gii\n",
    "    # command to resample surfaces to fsaverage5\n",
    "    wb_command -label-resample $label_in $current_sphere $new_sphere ADAP_BARY_AREA $label_out -area-metrics $current_area $new_area\n",
    "done\n"
   ]
  },
  {
   "cell_type": "code",
   "execution_count": null,
   "id": "9df044d4-2f64-4a20-87bc-003932a5918a",
   "metadata": {},
   "outputs": [],
   "source": [
    "# get volume parcels nii from CIFTI\n",
    "# same cifti_in as surface step\n",
    "cifti_in=\"/Users/charlie/Dropbox/PhD/bearden_lab/22q/analyses/striatum_thalamus_fc/ColeAnticevicNetPartition-master/data/CortexSubcortex_ColeAnticevic_NetPartition_wSubcorGSR_parcels_LR.dscalar.nii\"\n",
    "# volume out name\n",
    "volume_out=\"/Users/charlie/Dropbox/PhD/bearden_lab/AHBA/CAB_NP_converted/CAB_NP_vol_separated.nii\"\n",
    "wb_command -cifti-separate $cifti_in COLUMN -volume-all $volume_out"
   ]
  },
  {
   "cell_type": "code",
   "execution_count": 7,
   "id": "664efbe7-59a7-4328-81b7-18b887de9d35",
   "metadata": {},
   "outputs": [
    {
     "name": "stdout",
     "output_type": "stream",
     "text": [
      "(base) (base) "
     ]
    },
    {
     "ename": "",
     "evalue": "1",
     "output_type": "error",
     "traceback": []
    }
   ],
   "source": [
    "# create volume nii\n",
    "#wb_command -label-to-volume-mapping \n"
   ]
  },
  {
   "cell_type": "code",
   "execution_count": null,
   "id": "2418d2f5-cdc7-4a9d-b160-dc259e949df1",
   "metadata": {},
   "outputs": [],
   "source": []
  }
 ],
 "metadata": {
  "kernelspec": {
   "display_name": "Bash",
   "language": "bash",
   "name": "bash"
  },
  "language_info": {
   "codemirror_mode": "shell",
   "file_extension": ".sh",
   "mimetype": "text/x-sh",
   "name": "bash"
  }
 },
 "nbformat": 4,
 "nbformat_minor": 5
}
